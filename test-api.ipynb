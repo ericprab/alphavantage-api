{
 "cells": [
  {
   "cell_type": "code",
   "execution_count": null,
   "id": "3e6261db",
   "metadata": {},
   "outputs": [],
   "source": [
    "# !python3 -m pip install matplotlib"
   ]
  },
  {
   "cell_type": "code",
   "execution_count": null,
   "id": "beaea955",
   "metadata": {},
   "outputs": [],
   "source": [
    "# !python3 -m pip install pandas"
   ]
  },
  {
   "cell_type": "code",
   "execution_count": null,
   "id": "eb4b20d2",
   "metadata": {
    "scrolled": true
   },
   "outputs": [],
   "source": [
    "# !python3 -m pip install mysql-connector"
   ]
  },
  {
   "cell_type": "code",
   "execution_count": null,
   "id": "31ad3665",
   "metadata": {
    "scrolled": true
   },
   "outputs": [],
   "source": [
    "# !python3 -m pip install pymysql"
   ]
  },
  {
   "cell_type": "code",
   "execution_count": null,
   "id": "d09c7413",
   "metadata": {},
   "outputs": [],
   "source": [
    "# !python3 -m pip install pyyaml"
   ]
  },
  {
   "cell_type": "code",
   "execution_count": null,
   "id": "b399053f",
   "metadata": {},
   "outputs": [],
   "source": []
  },
  {
   "cell_type": "markdown",
   "id": "9adb2b87",
   "metadata": {},
   "source": [
    "## GET API"
   ]
  },
  {
   "cell_type": "code",
   "execution_count": null,
   "id": "e1d9a3dd",
   "metadata": {},
   "outputs": [],
   "source": [
    "# key = 'GWXLIMM8PJ1W2F2C'\n",
    "# db_name = 'alphavantage_uat'"
   ]
  },
  {
   "cell_type": "code",
   "execution_count": 7,
   "id": "6a01c7d9",
   "metadata": {},
   "outputs": [],
   "source": [
    "## FUNCTION\n",
    "import pymysql\n",
    "\n",
    "api_url = 'https://www.alphavantage.co/query'\n",
    "    \n",
    "def get_alphavantage(params_dict: dict()) -> dict():\n",
    "    params = '&'.join([f'{key}={value}' for key, value in params_dict.items()])\n",
    "    print(params)\n",
    "    \n",
    "    import requests\n",
    "    \n",
    "    url = f'{api_url}?{params}'\n",
    "    r = requests.get(url)\n",
    "    data = r.json()\n",
    "    return data\n",
    "\n",
    "def init_db() -> pymysql.connections.Connection:\n",
    "    # Open database connection\n",
    "    # Connect to the database\n",
    "    db = pymysql.connect(\n",
    "        host='alphavantage.ckhcoakuhojq.ap-southeast-1.rds.amazonaws.com',\n",
    "         user='admin',\n",
    "         password='adminadmin',\n",
    "         cursorclass=pymysql.cursors.DictCursor\n",
    "    )\n",
    "    return db\n",
    "\n",
    "def insert_data(df, db_name, table_name, db):\n",
    "    # prepare a cursor object using cursor() method\n",
    "    cursor = db.cursor()\n",
    "    \n",
    "    field_len = len(df.columns.values)\n",
    "    cols = ','.join(list(df.columns.values))\n",
    "\n",
    "    for i, row in df.iterrows():\n",
    "        print(i)\n",
    "        data_row = ','.join([row[list(df.columns.values)[field_i]] for field_i in range(field_len)])\n",
    "\n",
    "        sql = f\"\"\"\n",
    "            INSERT IGNORE INTO {db_name}.{table_name} ({cols})\n",
    "            VALUES ({data_row});\n",
    "        \"\"\"\n",
    "        print(sql.format(db_name, table_name,cols,data_row))\n",
    "\n",
    "        cursor.execute(sql)\n",
    "        \n",
    "db = init_db()"
   ]
  },
  {
   "cell_type": "code",
   "execution_count": null,
   "id": "760c642b",
   "metadata": {},
   "outputs": [],
   "source": []
  },
  {
   "cell_type": "code",
   "execution_count": null,
   "id": "13f604ff",
   "metadata": {},
   "outputs": [],
   "source": [
    "import pandas as pd\n",
    "\n",
    "## daily ticker/currency (/api/dailyeod)\n",
    "params_dict = {\n",
    "    'function': 'FX_DAILY',\n",
    "    'from_symbol': 'EUR',\n",
    "    'to_symbol': 'USD',\n",
    "    'apikey': 'demo'\n",
    "}\n",
    "data = get_alphavantage(params_dict)\n",
    "# data\n",
    "\n",
    "# df = pd.read_json(fname).reset_index()\n",
    "df = pd.DataFrame(data).reset_index()\n",
    "\n",
    "df = pd.concat([\n",
    "    df[df.columns.tolist()[-1]].dropna().apply(pd.Series),\n",
    "    df.drop(df.columns.tolist()[-1], axis=1)\n",
    "], axis=1)\n",
    "\n",
    "df = df[\n",
    "    df[df.columns.tolist()[-1]].isnull() # take out last column with null value (Meta Data) - logic will change if json structure changes\n",
    "].drop(\n",
    "    df.columns.tolist()[-1], axis=1 # drop empty column (Meta Data)\n",
    ")\n",
    "df.rename(columns={'index': 'date'}, inplace=True)\n",
    "df.columns = [x.replace('.','_').replace(' ','').lower() for x in df.columns]\n",
    "df['date'] = df['date'].apply(lambda x: f\"'{x}'\")\n",
    "\n",
    "df = df.reset_index(drop=True)\n",
    "# df\n",
    "\n",
    "table_name = '_'.join(list(params_dict.values())[:-1]).lower()\n",
    "print(table_name)\n",
    "\n",
    "insert_data(df, db_name, table_name, db)\n",
    "db.commit()"
   ]
  },
  {
   "cell_type": "code",
   "execution_count": null,
   "id": "8c0509a8",
   "metadata": {},
   "outputs": [],
   "source": [
    "import pandas as pd\n",
    "\n",
    "## monthly CPI (/api/monthlycpi)\n",
    "params_dict = {\n",
    "    'function': 'CPI',\n",
    "    'interval': 'monthly',\n",
    "    'apikey': 'demo'\n",
    "}\n",
    "data = get_alphavantage(params_dict)\n",
    "# data\n",
    "\n",
    "# df = pd.read_json(fname)\n",
    "df = pd.DataFrame(data)\n",
    "\n",
    "df = pd.concat([\n",
    "    df[df.columns.tolist()[-1]].apply(pd.Series),\n",
    "    df.drop(df.columns.tolist()[-1], axis=1)\n",
    "], axis=1)\n",
    "df = df[['date','value']]\n",
    "df['date'] = df['date'].apply(lambda x: f\"'{x}'\")\n",
    "\n",
    "df = df.reset_index(drop=True)\n",
    "# df\n",
    "\n",
    "table_name = '_'.join(list(params_dict.values())[:-1]).lower()\n",
    "print(table_name)\n",
    "\n",
    "insert_data(df, db_name, table_name, db)\n",
    "db.commit()"
   ]
  },
  {
   "cell_type": "code",
   "execution_count": null,
   "id": "ce80f061",
   "metadata": {},
   "outputs": [],
   "source": []
  },
  {
   "cell_type": "markdown",
   "id": "6d189fcb",
   "metadata": {},
   "source": [
    "## CLEAN DATA"
   ]
  },
  {
   "cell_type": "code",
   "execution_count": null,
   "id": "11355301",
   "metadata": {},
   "outputs": [],
   "source": []
  },
  {
   "cell_type": "markdown",
   "id": "ea1331f5",
   "metadata": {},
   "source": [
    "## QUERY"
   ]
  },
  {
   "cell_type": "code",
   "execution_count": 10,
   "id": "052f5a9d",
   "metadata": {
    "scrolled": true
   },
   "outputs": [
    {
     "data": {
      "text/html": [
       "<div>\n",
       "<style scoped>\n",
       "    .dataframe tbody tr th:only-of-type {\n",
       "        vertical-align: middle;\n",
       "    }\n",
       "\n",
       "    .dataframe tbody tr th {\n",
       "        vertical-align: top;\n",
       "    }\n",
       "\n",
       "    .dataframe thead th {\n",
       "        text-align: right;\n",
       "    }\n",
       "</style>\n",
       "<table border=\"1\" class=\"dataframe\">\n",
       "  <thead>\n",
       "    <tr style=\"text-align: right;\">\n",
       "      <th></th>\n",
       "      <th>date</th>\n",
       "      <th>1_open</th>\n",
       "      <th>2_high</th>\n",
       "      <th>3_low</th>\n",
       "      <th>4_close</th>\n",
       "    </tr>\n",
       "  </thead>\n",
       "  <tbody>\n",
       "  </tbody>\n",
       "</table>\n",
       "</div>"
      ],
      "text/plain": [
       "Empty DataFrame\n",
       "Columns: [date, 1_open, 2_high, 3_low, 4_close]\n",
       "Index: []"
      ]
     },
     "execution_count": 10,
     "metadata": {},
     "output_type": "execute_result"
    }
   ],
   "source": [
    "import pandas as pd\n",
    "\n",
    "query = f\"SELECT * FROM alphavantage.fx_daily_eur_usd;\"\n",
    "df = pd.read_sql(query, db)\n",
    "df"
   ]
  },
  {
   "cell_type": "code",
   "execution_count": 6,
   "id": "1ec157ff",
   "metadata": {},
   "outputs": [],
   "source": [
    "db.close()"
   ]
  },
  {
   "cell_type": "code",
   "execution_count": 3,
   "id": "d16a002b",
   "metadata": {
    "scrolled": true
   },
   "outputs": [
    {
     "data": {
      "text/html": [
       "<div>\n",
       "<style scoped>\n",
       "    .dataframe tbody tr th:only-of-type {\n",
       "        vertical-align: middle;\n",
       "    }\n",
       "\n",
       "    .dataframe tbody tr th {\n",
       "        vertical-align: top;\n",
       "    }\n",
       "\n",
       "    .dataframe thead th {\n",
       "        text-align: right;\n",
       "    }\n",
       "</style>\n",
       "<table border=\"1\" class=\"dataframe\">\n",
       "  <thead>\n",
       "    <tr style=\"text-align: right;\">\n",
       "      <th></th>\n",
       "      <th>date</th>\n",
       "      <th>value</th>\n",
       "    </tr>\n",
       "  </thead>\n",
       "  <tbody>\n",
       "    <tr>\n",
       "      <th>0</th>\n",
       "      <td>1913-01-01</td>\n",
       "      <td>9.800</td>\n",
       "    </tr>\n",
       "    <tr>\n",
       "      <th>1</th>\n",
       "      <td>1913-02-01</td>\n",
       "      <td>9.800</td>\n",
       "    </tr>\n",
       "    <tr>\n",
       "      <th>2</th>\n",
       "      <td>1913-03-01</td>\n",
       "      <td>9.800</td>\n",
       "    </tr>\n",
       "    <tr>\n",
       "      <th>3</th>\n",
       "      <td>1913-04-01</td>\n",
       "      <td>9.800</td>\n",
       "    </tr>\n",
       "    <tr>\n",
       "      <th>4</th>\n",
       "      <td>1913-05-01</td>\n",
       "      <td>9.700</td>\n",
       "    </tr>\n",
       "    <tr>\n",
       "      <th>...</th>\n",
       "      <td>...</td>\n",
       "      <td>...</td>\n",
       "    </tr>\n",
       "    <tr>\n",
       "      <th>1300</th>\n",
       "      <td>2021-05-01</td>\n",
       "      <td>269.195</td>\n",
       "    </tr>\n",
       "    <tr>\n",
       "      <th>1301</th>\n",
       "      <td>2021-06-01</td>\n",
       "      <td>271.696</td>\n",
       "    </tr>\n",
       "    <tr>\n",
       "      <th>1302</th>\n",
       "      <td>2021-07-01</td>\n",
       "      <td>273.003</td>\n",
       "    </tr>\n",
       "    <tr>\n",
       "      <th>1303</th>\n",
       "      <td>2021-08-01</td>\n",
       "      <td>273.567</td>\n",
       "    </tr>\n",
       "    <tr>\n",
       "      <th>1304</th>\n",
       "      <td>2021-09-01</td>\n",
       "      <td>274.310</td>\n",
       "    </tr>\n",
       "  </tbody>\n",
       "</table>\n",
       "<p>1305 rows × 2 columns</p>\n",
       "</div>"
      ],
      "text/plain": [
       "            date    value\n",
       "0     1913-01-01    9.800\n",
       "1     1913-02-01    9.800\n",
       "2     1913-03-01    9.800\n",
       "3     1913-04-01    9.800\n",
       "4     1913-05-01    9.700\n",
       "...          ...      ...\n",
       "1300  2021-05-01  269.195\n",
       "1301  2021-06-01  271.696\n",
       "1302  2021-07-01  273.003\n",
       "1303  2021-08-01  273.567\n",
       "1304  2021-09-01  274.310\n",
       "\n",
       "[1305 rows x 2 columns]"
      ]
     },
     "execution_count": 3,
     "metadata": {},
     "output_type": "execute_result"
    }
   ],
   "source": [
    "import pandas as pd\n",
    "\n",
    "query = f\"SELECT * FROM alphavantage_uat.cpi_monthly;\"\n",
    "df = pd.read_sql(query, db)\n",
    "df"
   ]
  },
  {
   "cell_type": "code",
   "execution_count": null,
   "id": "ca57bfaa",
   "metadata": {},
   "outputs": [],
   "source": [
    "db.close()"
   ]
  },
  {
   "cell_type": "code",
   "execution_count": null,
   "id": "3e75392e",
   "metadata": {},
   "outputs": [],
   "source": []
  },
  {
   "cell_type": "code",
   "execution_count": null,
   "id": "d109196a",
   "metadata": {},
   "outputs": [],
   "source": []
  },
  {
   "cell_type": "markdown",
   "id": "e8cceb8c",
   "metadata": {},
   "source": [
    "## CREATE TABLE - Adhoc"
   ]
  },
  {
   "cell_type": "code",
   "execution_count": 9,
   "id": "73e8f9e6",
   "metadata": {
    "scrolled": true
   },
   "outputs": [
    {
     "data": {
      "text/plain": [
       "0"
      ]
     },
     "execution_count": 9,
     "metadata": {},
     "output_type": "execute_result"
    }
   ],
   "source": [
    "cursor = db.cursor()\n",
    "    \n",
    "# Drop table if it already exist using execute() method.\n",
    "cursor.execute(f\"DROP TABLE IF EXISTS alphavantage.fx_daily_eur_usd;\")\n",
    "\n",
    "# Create table as per requirement\n",
    "sql = f\"\"\"\n",
    "    CREATE TABLE IF NOT EXISTS alphavantage.fx_daily_eur_usd (\n",
    "        date DATE PRIMARY KEY,\n",
    "        1_open FLOAT,\n",
    "        2_high FLOAT,\n",
    "        3_low FLOAT,\n",
    "        4_close FLOAT\n",
    "    );\n",
    "\"\"\"\n",
    "\n",
    "cursor.execute(sql)"
   ]
  },
  {
   "cell_type": "code",
   "execution_count": null,
   "id": "593d47fd",
   "metadata": {
    "scrolled": true
   },
   "outputs": [],
   "source": [
    "cursor = db.cursor()\n",
    "\n",
    "# Drop table if it already exist using execute() method.\n",
    "cursor.execute(f\"DROP TABLE IF EXISTS alphavantage.cpi_monthly;\")\n",
    "\n",
    "# Create table as per requirement\n",
    "sql = f\"\"\"\n",
    "    CREATE TABLE IF NOT EXISTS alphavantage.cpi_monthly (\n",
    "        date DATE PRIMARY KEY,\n",
    "        value FLOAT\n",
    "    );\n",
    "\"\"\"\n",
    "\n",
    "cursor.execute(sql)"
   ]
  },
  {
   "cell_type": "code",
   "execution_count": null,
   "id": "170dd704",
   "metadata": {},
   "outputs": [],
   "source": [
    "list(i.values())[0]"
   ]
  },
  {
   "cell_type": "code",
   "execution_count": null,
   "id": "cd20ddeb",
   "metadata": {},
   "outputs": [],
   "source": [
    "cursor = db.cursor()\n",
    "cursor.execute(\"SHOW DATABASES;\")\n",
    "\n",
    "vals = list()\n",
    "for i in cursor:\n",
    "    vals.append(list(i.values())[0])\n",
    "vals"
   ]
  },
  {
   "cell_type": "code",
   "execution_count": null,
   "id": "e1bbcc2c",
   "metadata": {},
   "outputs": [],
   "source": [
    "cursor = db.cursor()\n",
    "cursor.execute(\"SHOW TABLES FROM alphavantage_uat;\")\n",
    "\n",
    "vals = list()\n",
    "for i in cursor:\n",
    "    print(i)\n",
    "#     vals.append(list(i.values())[0])\n",
    "vals"
   ]
  },
  {
   "cell_type": "code",
   "execution_count": null,
   "id": "cb426797",
   "metadata": {},
   "outputs": [],
   "source": [
    "cursor = db.cursor()\n",
    "cursor.execute(f\"DESCRIBE alphavantage_uat.cpi_monthly;\")\n",
    "\n",
    "vals = list()\n",
    "for i in cursor:\n",
    "    vals.append(list(i.values())[0])\n",
    "vals"
   ]
  },
  {
   "cell_type": "code",
   "execution_count": null,
   "id": "bfd1c7ad",
   "metadata": {},
   "outputs": [],
   "source": []
  },
  {
   "cell_type": "code",
   "execution_count": null,
   "id": "fb214031",
   "metadata": {},
   "outputs": [],
   "source": [
    "import yaml\n",
    "\n",
    "with open('/home/ec2-user/data/config.yml', \"r\") as f:\n",
    "    data = yaml.safe_load(f)\n",
    "data['DATABASE']['HOST']"
   ]
  },
  {
   "cell_type": "code",
   "execution_count": null,
   "id": "d04397ee",
   "metadata": {},
   "outputs": [],
   "source": [
    "import os\n",
    "\n",
    "# Set environment variables\n",
    "os.environ['MYSQL_HOST'] = 'alphavantage.ckhcoakuhojq.ap-southeast-1.rds.amazonaws.com'\n",
    "os.environ['MYSQL_USER'] = 'admin'\n",
    "os.environ['MYSQL_PASSWORD'] = 'adminadmin'"
   ]
  },
  {
   "cell_type": "code",
   "execution_count": null,
   "id": "7439087e",
   "metadata": {},
   "outputs": [],
   "source": [
    "import os\n",
    "\n",
    "data = {\n",
    "    'host':os.environ.get('MYSQL_HOST'),\n",
    "    'user':os.environ.get('MYSQL_USER'),\n",
    "    'password':os.environ.get('MYSQL_PASSWORD')\n",
    "}\n",
    "data"
   ]
  },
  {
   "cell_type": "code",
   "execution_count": null,
   "id": "1196f9bd",
   "metadata": {},
   "outputs": [],
   "source": []
  },
  {
   "cell_type": "code",
   "execution_count": null,
   "id": "57bc6f85",
   "metadata": {},
   "outputs": [],
   "source": []
  },
  {
   "cell_type": "code",
   "execution_count": null,
   "id": "d57916de",
   "metadata": {},
   "outputs": [],
   "source": []
  },
  {
   "cell_type": "code",
   "execution_count": null,
   "id": "0566f513",
   "metadata": {},
   "outputs": [],
   "source": []
  },
  {
   "cell_type": "code",
   "execution_count": null,
   "id": "c89a090b",
   "metadata": {},
   "outputs": [],
   "source": []
  },
  {
   "cell_type": "markdown",
   "id": "f050337e",
   "metadata": {},
   "source": [
    "## MONTHLY"
   ]
  },
  {
   "cell_type": "code",
   "execution_count": null,
   "id": "64c9c758",
   "metadata": {},
   "outputs": [],
   "source": [
    "# import requests\n",
    "\n",
    "# # replace the \"demo\" apikey below with your own key from https://www.alphavantage.co/support/#api-key\n",
    "# url = f'https://www.alphavantage.co/query?function=CPI&interval=monthly&apikey={key}'\n",
    "# r = requests.get(url)\n",
    "# data = r.json()\n",
    "\n",
    "# print(data)"
   ]
  },
  {
   "cell_type": "markdown",
   "id": "9586b620",
   "metadata": {},
   "source": [
    "## CONNECT TO MySQL RDS"
   ]
  },
  {
   "cell_type": "code",
   "execution_count": null,
   "id": "7f54542d",
   "metadata": {},
   "outputs": [],
   "source": [
    "# import pymysql"
   ]
  },
  {
   "cell_type": "code",
   "execution_count": null,
   "id": "ae3da698",
   "metadata": {
    "scrolled": true
   },
   "outputs": [],
   "source": [
    "# # Connect to the database\n",
    "# connection = pymysql.connect(host='alphavantage.ckhcoakuhojq.ap-southeast-1.rds.amazonaws.com',\n",
    "#                              user='admin',\n",
    "#                              password='adminadmin')\n",
    "# #                              database='alphavantage',\n",
    "# #                              cursorclass=pymysql.cursors.DictCursor)\n",
    "# connection"
   ]
  },
  {
   "cell_type": "code",
   "execution_count": null,
   "id": "8cba9265",
   "metadata": {},
   "outputs": [],
   "source": [
    "# cursor = connection.cursor()\n",
    "# cursor"
   ]
  },
  {
   "cell_type": "code",
   "execution_count": null,
   "id": "3a07fa55",
   "metadata": {},
   "outputs": [],
   "source": [
    "# # execute SQL query using execute() method.\n",
    "# cursor.execute(\"SELECT VERSION();\")\n",
    "\n",
    "# # Fetch a single row using fetchone() method.\n",
    "# ver = cursor.fetchone()\n",
    "# print (\"Database version : %s \" % ver)"
   ]
  },
  {
   "cell_type": "markdown",
   "id": "1ebbb25c",
   "metadata": {},
   "source": [
    "## CREATE DATABASE"
   ]
  },
  {
   "cell_type": "code",
   "execution_count": null,
   "id": "680fffe5",
   "metadata": {},
   "outputs": [],
   "source": [
    "# connection.cursor().execute('CREATE DATABASE alphavantage_uat;')"
   ]
  },
  {
   "cell_type": "markdown",
   "id": "987360e2",
   "metadata": {},
   "source": [
    "## SHOW DATABASES"
   ]
  },
  {
   "cell_type": "code",
   "execution_count": null,
   "id": "a774be25",
   "metadata": {
    "scrolled": true
   },
   "outputs": [],
   "source": [
    "# cursor.execute(\"SHOW DATABASES;\")\n",
    "\n",
    "# for databases in cursor:\n",
    "#     print(databases[0])"
   ]
  },
  {
   "cell_type": "markdown",
   "id": "a8073504",
   "metadata": {},
   "source": [
    "## THIRD PARTY API"
   ]
  },
  {
   "cell_type": "code",
   "execution_count": null,
   "id": "bae308d0",
   "metadata": {},
   "outputs": [],
   "source": [
    "# from alpha_vantage.timeseries import TimeSeries\n",
    "# import matplotlib.pyplot as plt\n",
    "\n",
    "# ts = TimeSeries(key='GWXLIMM8PJ1W2F2C', output_format='json')\n",
    "# data, meta_data = ts.get_intraday(symbol='MSFT',interval='1min', outputsize='full')\n",
    "# print(data)\n",
    "# print(meta_data)\n",
    "# # data['close'].plot()\n",
    "# # plt.title('Intraday Times Series for the MSFT stock (1 min)')\n",
    "# # plt.show()"
   ]
  }
 ],
 "metadata": {
  "kernelspec": {
   "display_name": "Python 3 (ipykernel)",
   "language": "python",
   "name": "python3"
  },
  "language_info": {
   "codemirror_mode": {
    "name": "ipython",
    "version": 3
   },
   "file_extension": ".py",
   "mimetype": "text/x-python",
   "name": "python",
   "nbconvert_exporter": "python",
   "pygments_lexer": "ipython3",
   "version": "3.7.10"
  }
 },
 "nbformat": 4,
 "nbformat_minor": 5
}
